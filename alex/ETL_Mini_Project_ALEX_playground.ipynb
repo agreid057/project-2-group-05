{
 "cells": [
  {
   "cell_type": "code",
   "execution_count": 181,
   "metadata": {},
   "outputs": [],
   "source": [
    "# Import dependencies\n",
    "import pandas as pd\n",
    "import numpy as np\n",
    "import re\n",
    "pd.set_option('max_colwidth', 400)"
   ]
  },
  {
   "cell_type": "markdown",
   "metadata": {},
   "source": [
    "### Extract the crowdfunding.xlsx Data"
   ]
  },
  {
   "cell_type": "code",
   "execution_count": null,
   "metadata": {},
   "outputs": [],
   "source": [
    "# Read the data into a Pandas DataFrame\n",
    "crowdfunding_info_df = pd.read_excel('Resources/crowdfunding.xlsx')\n",
    "crowdfunding_info_df.head()"
   ]
  },
  {
   "cell_type": "code",
   "execution_count": null,
   "metadata": {},
   "outputs": [],
   "source": [
    "# Get a brief summary of the crowdfunding_info DataFrame.\n",
    "crowdfunding_info_df.info()"
   ]
  },
  {
   "cell_type": "markdown",
   "metadata": {},
   "source": [
    "### Create the Category and Subcategory DataFrames\n",
    "---\n",
    "**Create a Category DataFrame that has the following columns:**\n",
    "- A \"category_id\" column that is numbered sequential form 1 to the length of the number of unique categories.\n",
    "- A \"category\" column that has only the categories.\n",
    "\n",
    "Export the DataFrame as a `category.csv` CSV file.\n",
    "\n",
    "**Create a SubCategory DataFrame that has the following columns:**\n",
    "- A \"subcategory_id\" column that is numbered sequential form 1 to the length of the number of unique subcategories.\n",
    "- A \"subcategory\" column that has only the subcategories. \n",
    "\n",
    "Export the DataFrame as a `subcategory.csv` CSV file."
   ]
  },
  {
   "cell_type": "code",
   "execution_count": null,
   "metadata": {},
   "outputs": [],
   "source": [
    "# Get the crowdfunding_info_df columns.\n",
    "crowdfunding_cols = crowdfunding_info_df.columns\n",
    "crowdfunding_cols"
   ]
  },
  {
   "cell_type": "code",
   "execution_count": null,
   "metadata": {},
   "outputs": [],
   "source": [
    "list(crowdfunding_info_df)"
   ]
  },
  {
   "cell_type": "code",
   "execution_count": null,
   "metadata": {},
   "outputs": [],
   "source": []
  },
  {
   "cell_type": "code",
   "execution_count": null,
   "metadata": {},
   "outputs": [],
   "source": [
    "# Assign the category and subcategory values to category and subcategory columns.\n",
    "# Split the item_name column into two columns, one with the category and the other the item type.\n",
    "split_crowdfunding = crowdfunding_info_df[[\"category\",\"sub-category\"]] = crowdfunding_info_df['category & sub-category'].str.split(' / ', n=1, expand=True)\n",
    "\n",
    "\n",
    "# Drop the \"item_name\" column.\n",
    "#grocery_df_clean = crowdfunding_info_df.drop(\"item_name\", axis=1)\n",
    "#grocery_df_clean\n",
    "crowdfunding_info_df"
   ]
  },
  {
   "cell_type": "code",
   "execution_count": null,
   "metadata": {},
   "outputs": [],
   "source": [
    "# Get the unique categories and subcategories in separate lists.\n",
    "\n",
    "\n",
    "print(categories)\n",
    "print(subcategories)"
   ]
  },
  {
   "cell_type": "code",
   "execution_count": null,
   "metadata": {},
   "outputs": [],
   "source": [
    "# Get the number of distinct values in the categories and subcategories lists.\n",
    "print(len(categories))\n",
    "print(len(subcategories))"
   ]
  },
  {
   "cell_type": "code",
   "execution_count": null,
   "metadata": {},
   "outputs": [],
   "source": [
    "# Create numpy arrays from 1-9 for the categories and 1-24 for the subcategories.\n",
    "category_ids = np.arange(1, 10)\n",
    "subcategory_ids = np.arange(1, 25)\n",
    "\n",
    "print(category_ids)\n",
    "print(subcategory_ids)"
   ]
  },
  {
   "cell_type": "code",
   "execution_count": null,
   "metadata": {},
   "outputs": [],
   "source": [
    "# Use a list comprehension to add \"cat\" to each category_id. \n",
    "\n",
    "# Use a list comprehension to add \"subcat\" to each subcategory_id.    \n",
    "\n",
    "    \n",
    "print(cat_ids)\n",
    "print(scat_ids)"
   ]
  },
  {
   "cell_type": "code",
   "execution_count": null,
   "metadata": {},
   "outputs": [],
   "source": [
    "# Create a category DataFrame with the category_id array as the category_id and categories list as the category name.\n",
    "\n",
    "# Create a category DataFrame with the subcategory_id array as the subcategory_id and subcategories list as the subcategory name. \n"
   ]
  },
  {
   "cell_type": "code",
   "execution_count": null,
   "metadata": {},
   "outputs": [],
   "source": [
    "category_df"
   ]
  },
  {
   "cell_type": "code",
   "execution_count": null,
   "metadata": {},
   "outputs": [],
   "source": [
    "subcategory_df"
   ]
  },
  {
   "cell_type": "code",
   "execution_count": null,
   "metadata": {},
   "outputs": [],
   "source": [
    "# Export categories_df and subcategories_df as CSV files.\n",
    "category_df.to_csv(\"Resources/category.csv\", index=False)\n",
    "\n",
    "subcategory_df.to_csv(\"Resources/subcategory.csv\", index=False)"
   ]
  },
  {
   "cell_type": "markdown",
   "metadata": {},
   "source": [
    "### Campaign DataFrame\n",
    "----\n",
    "**Create a Campaign DataFrame that has the following columns:**\n",
    "- The \"cf_id\" column.\n",
    "- The \"contact_id\" column.\n",
    "- The “company_name” column.\n",
    "- The \"blurb\" column is renamed as \"description.\"\n",
    "- The \"goal\" column.\n",
    "- The \"goal\" column is converted to a `float` datatype.\n",
    "- The \"pledged\" column is converted to a `float` datatype. \n",
    "- The \"backers_count\" column. \n",
    "- The \"country\" column.\n",
    "- The \"currency\" column.\n",
    "- The \"launched_at\" column is renamed as \"launch_date\" and converted to a datetime format. \n",
    "- The \"deadline\" column is renamed as \"end_date\" and converted to a datetime format.\n",
    "- The \"category_id\" with the unique number matching the “category_id” from the category DataFrame. \n",
    "- The \"subcategory_id\" with the unique number matching the “subcategory_id” from the subcategory DataFrame.\n",
    "- And, create a column that contains the unique four-digit contact ID number from the `contact.xlsx` file.\n",
    " \n",
    "\n",
    "Then export the DataFrame as a `campaign.csv` CSV file.\n"
   ]
  },
  {
   "cell_type": "code",
   "execution_count": null,
   "metadata": {},
   "outputs": [],
   "source": [
    "# Create a copy of the crowdfunding_info_df DataFrame name campaign_df. \n",
    "campaign_df = crowdfunding_info_df.copy()\n",
    "campaign_df.head()"
   ]
  },
  {
   "cell_type": "code",
   "execution_count": null,
   "metadata": {},
   "outputs": [],
   "source": [
    "# Rename the blurb, launched_at, and deadline columns.\n"
   ]
  },
  {
   "cell_type": "code",
   "execution_count": null,
   "metadata": {},
   "outputs": [],
   "source": [
    "# Convert the goal and pledged columns to a `float` data type.\n"
   ]
  },
  {
   "cell_type": "code",
   "execution_count": null,
   "metadata": {},
   "outputs": [],
   "source": [
    "# Check the datatypes\n"
   ]
  },
  {
   "cell_type": "code",
   "execution_count": null,
   "metadata": {},
   "outputs": [],
   "source": [
    "# Format the launched_date and end_date columns to datetime format\n",
    "from datetime import datetime as dt\n",
    "\n",
    "#Rename the columns:\n",
    "campaign_df.rename(columns={‘launched_at’: ‘launch_date’, ‘deadline’: ‘end_date’}, inplace=True)\n",
    "#Convert the UTC times to datetime format:\n",
    "campaign_df[‘launch_date’] = pd.to_datetime(campaign_df[‘launch_date’], unit=‘s’).date()\n",
    "campaign_df[‘end_date’] = pd.to_datetime(campaign_df[‘end_date’], unit=‘s’)\n",
    "campaign_df['launch_date'] = campaign_df['datetime'].dt.strftime('%Y-%m-%d')\n",
    "campaign_df['end_date'] = campaign_df['datetime'].dt.strftime('%Y-%m-%d')\n",
    "\n",
    "campaign_df.head()"
   ]
  },
  {
   "cell_type": "code",
   "execution_count": null,
   "metadata": {},
   "outputs": [],
   "source": [
    "# Merge the campaign_df with the category_df on the \"category\" column and \n",
    "# the subcategory_df on the \"subcategory\" column.\n",
    "\n",
    "\n",
    "campaign_merged_df.tail(10)"
   ]
  },
  {
   "cell_type": "code",
   "execution_count": null,
   "metadata": {},
   "outputs": [],
   "source": [
    "# Drop unwanted columns\n"
   ]
  },
  {
   "cell_type": "code",
   "execution_count": null,
   "metadata": {},
   "outputs": [],
   "source": [
    "# Export the DataFrame as a CSV file. \n",
    "campaign_cleaned.to_csv(\"Resources/campaign.csv\", index=False)"
   ]
  },
  {
   "cell_type": "markdown",
   "metadata": {},
   "source": [
    "### Extract the contacts.xlsx Data."
   ]
  },
  {
   "cell_type": "code",
   "execution_count": null,
   "metadata": {},
   "outputs": [],
   "source": [
    "# Read the data into a Pandas DataFrame. Use the `header=2` parameter when reading in the data.\n",
    "contact_info_df = pd.read_excel('Resources/contacts.xlsx', header=2)\n",
    "contact_info_df.head()"
   ]
  },
  {
   "cell_type": "markdown",
   "metadata": {},
   "source": [
    "### Create the Contacts DataFrame \n",
    "---\n",
    "**Create a Contacts DataFrame that has the following columns:**\n",
    "- A column named \"contact_id\"  that contains the unique number of the contact person.\n",
    "- A column named \"first_name\" that contains the first name of the contact person.\n",
    "- A column named \"last_name\" that contains the first name of the contact person.\n",
    "- A column named \"email\" that contains the email address of the contact person\n",
    "\n",
    "Then export the DataFrame as a `contacts.csv` CSV file."
   ]
  },
  {
   "cell_type": "markdown",
   "metadata": {},
   "source": [
    "### Option 1: Use Pandas to create the contacts DataFrame."
   ]
  },
  {
   "cell_type": "code",
   "execution_count": null,
   "metadata": {},
   "outputs": [],
   "source": [
    "# Iterate through the contact_info_df and convert each row to a dictionary.\n",
    "import json\n",
    "dict_values = []\n",
    "\n",
    "\n",
    "# Print out the list of values for each row.\n",
    "print(dict_values)"
   ]
  },
  {
   "cell_type": "code",
   "execution_count": null,
   "metadata": {},
   "outputs": [],
   "source": [
    "# Create a contact_info DataFrame and add each list of values, i.e., each row \n",
    "# to the 'contact_id', 'name', 'email' columns.\n"
   ]
  },
  {
   "cell_type": "code",
   "execution_count": null,
   "metadata": {},
   "outputs": [],
   "source": [
    "# Check the datatypes.\n"
   ]
  },
  {
   "cell_type": "code",
   "execution_count": null,
   "metadata": {},
   "outputs": [],
   "source": [
    "# Create a \"first\"name\" and \"last_name\" column with the first and last names from the \"name\" column. \n",
    "\n",
    "\n",
    "# Drop the contact_name column\n",
    "\n"
   ]
  },
  {
   "cell_type": "code",
   "execution_count": null,
   "metadata": {},
   "outputs": [],
   "source": [
    "# Reorder the columns\n"
   ]
  },
  {
   "cell_type": "code",
   "execution_count": null,
   "metadata": {},
   "outputs": [],
   "source": [
    "# Check the datatypes one more time before exporting as CSV file.\n"
   ]
  },
  {
   "cell_type": "code",
   "execution_count": null,
   "metadata": {},
   "outputs": [],
   "source": [
    "# Export the DataFrame as a CSV file. \n",
    "contacts_df_clean.to_csv(\"Resources/contacts.csv\", encoding='utf8', index=False)"
   ]
  },
  {
   "cell_type": "markdown",
   "metadata": {},
   "source": [
    "### Option 2: Use regex to create the contacts DataFrame."
   ]
  },
  {
   "cell_type": "code",
   "execution_count": 182,
   "metadata": {},
   "outputs": [
    {
     "data": {
      "text/html": [
       "<div>\n",
       "<style scoped>\n",
       "    .dataframe tbody tr th:only-of-type {\n",
       "        vertical-align: middle;\n",
       "    }\n",
       "\n",
       "    .dataframe tbody tr th {\n",
       "        vertical-align: top;\n",
       "    }\n",
       "\n",
       "    .dataframe thead th {\n",
       "        text-align: right;\n",
       "    }\n",
       "</style>\n",
       "<table border=\"1\" class=\"dataframe\">\n",
       "  <thead>\n",
       "    <tr style=\"text-align: right;\">\n",
       "      <th></th>\n",
       "      <th>contact_info</th>\n",
       "    </tr>\n",
       "  </thead>\n",
       "  <tbody>\n",
       "    <tr>\n",
       "      <th>0</th>\n",
       "      <td>{\"contact_id\": 4661, \"name\": \"Cecilia Velasco\", \"email\": \"cecilia.velasco@rodrigues.fr\"}</td>\n",
       "    </tr>\n",
       "    <tr>\n",
       "      <th>1</th>\n",
       "      <td>{\"contact_id\": 3765, \"name\": \"Mariana Ellis\", \"email\": \"mariana.ellis@rossi.org\"}</td>\n",
       "    </tr>\n",
       "    <tr>\n",
       "      <th>2</th>\n",
       "      <td>{\"contact_id\": 4187, \"name\": \"Sofie Woods\", \"email\": \"sofie.woods@riviere.com\"}</td>\n",
       "    </tr>\n",
       "    <tr>\n",
       "      <th>3</th>\n",
       "      <td>{\"contact_id\": 4941, \"name\": \"Jeanette Iannotti\", \"email\": \"jeanette.iannotti@yahoo.com\"}</td>\n",
       "    </tr>\n",
       "    <tr>\n",
       "      <th>4</th>\n",
       "      <td>{\"contact_id\": 2199, \"name\": \"Samuel Sorgatz\", \"email\": \"samuel.sorgatz@gmail.com\"}</td>\n",
       "    </tr>\n",
       "  </tbody>\n",
       "</table>\n",
       "</div>"
      ],
      "text/plain": [
       "                                                                                contact_info\n",
       "0   {\"contact_id\": 4661, \"name\": \"Cecilia Velasco\", \"email\": \"cecilia.velasco@rodrigues.fr\"}\n",
       "1          {\"contact_id\": 3765, \"name\": \"Mariana Ellis\", \"email\": \"mariana.ellis@rossi.org\"}\n",
       "2            {\"contact_id\": 4187, \"name\": \"Sofie Woods\", \"email\": \"sofie.woods@riviere.com\"}\n",
       "3  {\"contact_id\": 4941, \"name\": \"Jeanette Iannotti\", \"email\": \"jeanette.iannotti@yahoo.com\"}\n",
       "4        {\"contact_id\": 2199, \"name\": \"Samuel Sorgatz\", \"email\": \"samuel.sorgatz@gmail.com\"}"
      ]
     },
     "execution_count": 182,
     "metadata": {},
     "output_type": "execute_result"
    }
   ],
   "source": [
    "#loading in the excel file\n",
    "contact_info_df = pd.read_excel ('Resources/contacts.xlsx' , header =3)\n",
    "contact_info_df.head()"
   ]
  },
  {
   "cell_type": "code",
   "execution_count": 183,
   "metadata": {},
   "outputs": [
    {
     "data": {
      "text/html": [
       "<div>\n",
       "<style scoped>\n",
       "    .dataframe tbody tr th:only-of-type {\n",
       "        vertical-align: middle;\n",
       "    }\n",
       "\n",
       "    .dataframe tbody tr th {\n",
       "        vertical-align: top;\n",
       "    }\n",
       "\n",
       "    .dataframe thead th {\n",
       "        text-align: right;\n",
       "    }\n",
       "</style>\n",
       "<table border=\"1\" class=\"dataframe\">\n",
       "  <thead>\n",
       "    <tr style=\"text-align: right;\">\n",
       "      <th></th>\n",
       "      <th>contact_info</th>\n",
       "    </tr>\n",
       "  </thead>\n",
       "  <tbody>\n",
       "    <tr>\n",
       "      <th>0</th>\n",
       "      <td>{\"contact_id\": 4661, \"name\": \"Cecilia Velasco\", \"email\": \"cecilia.velasco@rodrigues.fr\"}</td>\n",
       "    </tr>\n",
       "    <tr>\n",
       "      <th>1</th>\n",
       "      <td>{\"contact_id\": 3765, \"name\": \"Mariana Ellis\", \"email\": \"mariana.ellis@rossi.org\"}</td>\n",
       "    </tr>\n",
       "    <tr>\n",
       "      <th>2</th>\n",
       "      <td>{\"contact_id\": 4187, \"name\": \"Sofie Woods\", \"email\": \"sofie.woods@riviere.com\"}</td>\n",
       "    </tr>\n",
       "    <tr>\n",
       "      <th>3</th>\n",
       "      <td>{\"contact_id\": 4941, \"name\": \"Jeanette Iannotti\", \"email\": \"jeanette.iannotti@yahoo.com\"}</td>\n",
       "    </tr>\n",
       "    <tr>\n",
       "      <th>4</th>\n",
       "      <td>{\"contact_id\": 2199, \"name\": \"Samuel Sorgatz\", \"email\": \"samuel.sorgatz@gmail.com\"}</td>\n",
       "    </tr>\n",
       "  </tbody>\n",
       "</table>\n",
       "</div>"
      ],
      "text/plain": [
       "                                                                                contact_info\n",
       "0   {\"contact_id\": 4661, \"name\": \"Cecilia Velasco\", \"email\": \"cecilia.velasco@rodrigues.fr\"}\n",
       "1          {\"contact_id\": 3765, \"name\": \"Mariana Ellis\", \"email\": \"mariana.ellis@rossi.org\"}\n",
       "2            {\"contact_id\": 4187, \"name\": \"Sofie Woods\", \"email\": \"sofie.woods@riviere.com\"}\n",
       "3  {\"contact_id\": 4941, \"name\": \"Jeanette Iannotti\", \"email\": \"jeanette.iannotti@yahoo.com\"}\n",
       "4        {\"contact_id\": 2199, \"name\": \"Samuel Sorgatz\", \"email\": \"samuel.sorgatz@gmail.com\"}"
      ]
     },
     "execution_count": 183,
     "metadata": {},
     "output_type": "execute_result"
    }
   ],
   "source": [
    "#making a copy of the data frame\n",
    "contact_info_df_copy = contact_info_df.copy()\n",
    "contact_info_df_copy.head()"
   ]
  },
  {
   "cell_type": "code",
   "execution_count": 192,
   "metadata": {},
   "outputs": [
    {
     "data": {
      "text/html": [
       "<div>\n",
       "<style scoped>\n",
       "    .dataframe tbody tr th:only-of-type {\n",
       "        vertical-align: middle;\n",
       "    }\n",
       "\n",
       "    .dataframe tbody tr th {\n",
       "        vertical-align: top;\n",
       "    }\n",
       "\n",
       "    .dataframe thead th {\n",
       "        text-align: right;\n",
       "    }\n",
       "</style>\n",
       "<table border=\"1\" class=\"dataframe\">\n",
       "  <thead>\n",
       "    <tr style=\"text-align: right;\">\n",
       "      <th></th>\n",
       "      <th>contact_id</th>\n",
       "      <th>name</th>\n",
       "      <th>email</th>\n",
       "    </tr>\n",
       "  </thead>\n",
       "  <tbody>\n",
       "    <tr>\n",
       "      <th>975</th>\n",
       "      <td>{\"contact_id\": 2741</td>\n",
       "      <td>\"name\": \"Elliott Herrmann\"</td>\n",
       "      <td>\"email\": \"elliott.herrmann@hotmail.com.au\"}</td>\n",
       "    </tr>\n",
       "    <tr>\n",
       "      <th>976</th>\n",
       "      <td>{\"contact_id\": 1675</td>\n",
       "      <td>\"name\": \"Graziella Vidal\"</td>\n",
       "      <td>\"email\": \"graziella.vidal@hotmail.com\"}</td>\n",
       "    </tr>\n",
       "    <tr>\n",
       "      <th>977</th>\n",
       "      <td>{\"contact_id\": 2712</td>\n",
       "      <td>\"name\": \"Francisca Becerra\"</td>\n",
       "      <td>\"email\": \"francisca.becerra@young.com.au\"}</td>\n",
       "    </tr>\n",
       "    <tr>\n",
       "      <th>978</th>\n",
       "      <td>{\"contact_id\": 4527</td>\n",
       "      <td>\"name\": \"Edeltrud Boyer\"</td>\n",
       "      <td>\"email\": \"edeltrud.boyer@outlook.com\"}</td>\n",
       "    </tr>\n",
       "    <tr>\n",
       "      <th>979</th>\n",
       "      <td>{\"contact_id\": 1722</td>\n",
       "      <td>\"name\": \"Julian Noble\"</td>\n",
       "      <td>\"email\": \"julian.noble@hill.org.au\"}</td>\n",
       "    </tr>\n",
       "    <tr>\n",
       "      <th>980</th>\n",
       "      <td>{\"contact_id\": 4330</td>\n",
       "      <td>\"name\": \"Christophe Bohnbach\"</td>\n",
       "      <td>\"email\": \"christophe.bohnbach@ifrance.com\"}</td>\n",
       "    </tr>\n",
       "    <tr>\n",
       "      <th>981</th>\n",
       "      <td>{\"contact_id\": 5219</td>\n",
       "      <td>\"name\": \"Ippazio Angulo\"</td>\n",
       "      <td>\"email\": \"ippazio.angulo@yahoo.com\"}</td>\n",
       "    </tr>\n",
       "    <tr>\n",
       "      <th>982</th>\n",
       "      <td>{\"contact_id\": 4997</td>\n",
       "      <td>\"name\": \"Grace Kroker\"</td>\n",
       "      <td>\"email\": \"grace.kroker@hotmail.com\"}</td>\n",
       "    </tr>\n",
       "    <tr>\n",
       "      <th>983</th>\n",
       "      <td>{\"contact_id\": 2239</td>\n",
       "      <td>\"name\": \"Jared Ferguson\"</td>\n",
       "      <td>\"email\": \"jared.ferguson@roberts.com\"}</td>\n",
       "    </tr>\n",
       "    <tr>\n",
       "      <th>984</th>\n",
       "      <td>{\"contact_id\": 4587</td>\n",
       "      <td>\"name\": \"Virginie McLean\"</td>\n",
       "      <td>\"email\": \"virginie.mclean@yahoo.com\"}</td>\n",
       "    </tr>\n",
       "    <tr>\n",
       "      <th>985</th>\n",
       "      <td>{\"contact_id\": 4113</td>\n",
       "      <td>\"name\": \"Mason Potter\"</td>\n",
       "      <td>\"email\": \"mason.potter@gmail.com\"}</td>\n",
       "    </tr>\n",
       "    <tr>\n",
       "      <th>986</th>\n",
       "      <td>{\"contact_id\": 4762</td>\n",
       "      <td>\"name\": \"Aaron Anaya\"</td>\n",
       "      <td>\"email\": \"aaron.anaya@hotmail.com.au\"}</td>\n",
       "    </tr>\n",
       "    <tr>\n",
       "      <th>987</th>\n",
       "      <td>{\"contact_id\": 5242</td>\n",
       "      <td>\"name\": \"Leah Ornelas\"</td>\n",
       "      <td>\"email\": \"leah.ornelas@gmail.com\"}</td>\n",
       "    </tr>\n",
       "    <tr>\n",
       "      <th>988</th>\n",
       "      <td>{\"contact_id\": 5765</td>\n",
       "      <td>\"name\": \"Harald Roy\"</td>\n",
       "      <td>\"email\": \"harald.roy@web.de\"}</td>\n",
       "    </tr>\n",
       "    <tr>\n",
       "      <th>989</th>\n",
       "      <td>{\"contact_id\": 2185</td>\n",
       "      <td>\"name\": \"Micaela Martel\"</td>\n",
       "      <td>\"email\": \"micaela.martel@hotmail.com\"}</td>\n",
       "    </tr>\n",
       "    <tr>\n",
       "      <th>990</th>\n",
       "      <td>{\"contact_id\": 5500</td>\n",
       "      <td>\"name\": \"Vincentio Sanders\"</td>\n",
       "      <td>\"email\": \"vincentio.sanders@voila.fr\"}</td>\n",
       "    </tr>\n",
       "    <tr>\n",
       "      <th>991</th>\n",
       "      <td>{\"contact_id\": 3494</td>\n",
       "      <td>\"name\": \"Bettina Norbiato\"</td>\n",
       "      <td>\"email\": \"bettina.norbiato@allen-lutz.org\"}</td>\n",
       "    </tr>\n",
       "    <tr>\n",
       "      <th>992</th>\n",
       "      <td>{\"contact_id\": 3924</td>\n",
       "      <td>\"name\": \"Julio Renner\"</td>\n",
       "      <td>\"email\": \"julio.renner@industrias.net\"}</td>\n",
       "    </tr>\n",
       "    <tr>\n",
       "      <th>993</th>\n",
       "      <td>{\"contact_id\": 3521</td>\n",
       "      <td>\"name\": \"Jelena Stiffel\"</td>\n",
       "      <td>\"email\": \"jelena.stiffel@trupp.de\"}</td>\n",
       "    </tr>\n",
       "    <tr>\n",
       "      <th>994</th>\n",
       "      <td>{\"contact_id\": 5262</td>\n",
       "      <td>\"name\": \"Guadalupe Munoz\"</td>\n",
       "      <td>\"email\": \"guadalupe.munoz@murray-hamilton.com.au\"}</td>\n",
       "    </tr>\n",
       "    <tr>\n",
       "      <th>995</th>\n",
       "      <td>{\"contact_id\": 3684</td>\n",
       "      <td>\"name\": \"Whitney Noack\"</td>\n",
       "      <td>\"email\": \"whitney.noack@laboratorios.org\"}</td>\n",
       "    </tr>\n",
       "    <tr>\n",
       "      <th>996</th>\n",
       "      <td>{\"contact_id\": 5784</td>\n",
       "      <td>\"name\": \"Gelsomina Migliaccio\"</td>\n",
       "      <td>\"email\": \"gelsomina.migliaccio@junk.com\"}</td>\n",
       "    </tr>\n",
       "    <tr>\n",
       "      <th>997</th>\n",
       "      <td>{\"contact_id\": 1498</td>\n",
       "      <td>\"name\": \"Evangelista Pereira\"</td>\n",
       "      <td>\"email\": \"evangelista.pereira@thompson-peterson.biz\"}</td>\n",
       "    </tr>\n",
       "    <tr>\n",
       "      <th>998</th>\n",
       "      <td>{\"contact_id\": 6073</td>\n",
       "      <td>\"name\": \"Gareth Comolli\"</td>\n",
       "      <td>\"email\": \"gareth.comolli@tiscali.fr\"}</td>\n",
       "    </tr>\n",
       "    <tr>\n",
       "      <th>999</th>\n",
       "      <td>{\"contact_id\": 4939</td>\n",
       "      <td>\"name\": \"Michelangelo Hess\"</td>\n",
       "      <td>\"email\": \"michelangelo.hess@bouygtel.fr\"}</td>\n",
       "    </tr>\n",
       "  </tbody>\n",
       "</table>\n",
       "</div>"
      ],
      "text/plain": [
       "              contact_id                             name  \\\n",
       "975  {\"contact_id\": 2741       \"name\": \"Elliott Herrmann\"   \n",
       "976  {\"contact_id\": 1675        \"name\": \"Graziella Vidal\"   \n",
       "977  {\"contact_id\": 2712      \"name\": \"Francisca Becerra\"   \n",
       "978  {\"contact_id\": 4527         \"name\": \"Edeltrud Boyer\"   \n",
       "979  {\"contact_id\": 1722           \"name\": \"Julian Noble\"   \n",
       "980  {\"contact_id\": 4330    \"name\": \"Christophe Bohnbach\"   \n",
       "981  {\"contact_id\": 5219         \"name\": \"Ippazio Angulo\"   \n",
       "982  {\"contact_id\": 4997           \"name\": \"Grace Kroker\"   \n",
       "983  {\"contact_id\": 2239         \"name\": \"Jared Ferguson\"   \n",
       "984  {\"contact_id\": 4587        \"name\": \"Virginie McLean\"   \n",
       "985  {\"contact_id\": 4113           \"name\": \"Mason Potter\"   \n",
       "986  {\"contact_id\": 4762            \"name\": \"Aaron Anaya\"   \n",
       "987  {\"contact_id\": 5242           \"name\": \"Leah Ornelas\"   \n",
       "988  {\"contact_id\": 5765             \"name\": \"Harald Roy\"   \n",
       "989  {\"contact_id\": 2185         \"name\": \"Micaela Martel\"   \n",
       "990  {\"contact_id\": 5500      \"name\": \"Vincentio Sanders\"   \n",
       "991  {\"contact_id\": 3494       \"name\": \"Bettina Norbiato\"   \n",
       "992  {\"contact_id\": 3924           \"name\": \"Julio Renner\"   \n",
       "993  {\"contact_id\": 3521         \"name\": \"Jelena Stiffel\"   \n",
       "994  {\"contact_id\": 5262        \"name\": \"Guadalupe Munoz\"   \n",
       "995  {\"contact_id\": 3684          \"name\": \"Whitney Noack\"   \n",
       "996  {\"contact_id\": 5784   \"name\": \"Gelsomina Migliaccio\"   \n",
       "997  {\"contact_id\": 1498    \"name\": \"Evangelista Pereira\"   \n",
       "998  {\"contact_id\": 6073         \"name\": \"Gareth Comolli\"   \n",
       "999  {\"contact_id\": 4939      \"name\": \"Michelangelo Hess\"   \n",
       "\n",
       "                                                      email  \n",
       "975             \"email\": \"elliott.herrmann@hotmail.com.au\"}  \n",
       "976                 \"email\": \"graziella.vidal@hotmail.com\"}  \n",
       "977              \"email\": \"francisca.becerra@young.com.au\"}  \n",
       "978                  \"email\": \"edeltrud.boyer@outlook.com\"}  \n",
       "979                    \"email\": \"julian.noble@hill.org.au\"}  \n",
       "980             \"email\": \"christophe.bohnbach@ifrance.com\"}  \n",
       "981                    \"email\": \"ippazio.angulo@yahoo.com\"}  \n",
       "982                    \"email\": \"grace.kroker@hotmail.com\"}  \n",
       "983                  \"email\": \"jared.ferguson@roberts.com\"}  \n",
       "984                   \"email\": \"virginie.mclean@yahoo.com\"}  \n",
       "985                      \"email\": \"mason.potter@gmail.com\"}  \n",
       "986                  \"email\": \"aaron.anaya@hotmail.com.au\"}  \n",
       "987                      \"email\": \"leah.ornelas@gmail.com\"}  \n",
       "988                           \"email\": \"harald.roy@web.de\"}  \n",
       "989                  \"email\": \"micaela.martel@hotmail.com\"}  \n",
       "990                  \"email\": \"vincentio.sanders@voila.fr\"}  \n",
       "991             \"email\": \"bettina.norbiato@allen-lutz.org\"}  \n",
       "992                 \"email\": \"julio.renner@industrias.net\"}  \n",
       "993                     \"email\": \"jelena.stiffel@trupp.de\"}  \n",
       "994      \"email\": \"guadalupe.munoz@murray-hamilton.com.au\"}  \n",
       "995              \"email\": \"whitney.noack@laboratorios.org\"}  \n",
       "996               \"email\": \"gelsomina.migliaccio@junk.com\"}  \n",
       "997   \"email\": \"evangelista.pereira@thompson-peterson.biz\"}  \n",
       "998                   \"email\": \"gareth.comolli@tiscali.fr\"}  \n",
       "999               \"email\": \"michelangelo.hess@bouygtel.fr\"}  "
      ]
     },
     "execution_count": 192,
     "metadata": {},
     "output_type": "execute_result"
    }
   ],
   "source": [
    "#splitting my columns into contact_id, name, and email\n",
    "contacts_df_temp = pd.DataFrame() \n",
    "contacts_df_temp[['contact_id','name','email']] = contact_info_df_copy['contact_info'].str.split(',' , expand = True) \n",
    "contacts_df_temp.tail(25)"
   ]
  },
  {
   "cell_type": "code",
   "execution_count": 185,
   "metadata": {},
   "outputs": [
    {
     "data": {
      "text/html": [
       "<div>\n",
       "<style scoped>\n",
       "    .dataframe tbody tr th:only-of-type {\n",
       "        vertical-align: middle;\n",
       "    }\n",
       "\n",
       "    .dataframe tbody tr th {\n",
       "        vertical-align: top;\n",
       "    }\n",
       "\n",
       "    .dataframe thead th {\n",
       "        text-align: right;\n",
       "    }\n",
       "</style>\n",
       "<table border=\"1\" class=\"dataframe\">\n",
       "  <thead>\n",
       "    <tr style=\"text-align: right;\">\n",
       "      <th></th>\n",
       "      <th>contact_id</th>\n",
       "      <th>name</th>\n",
       "      <th>email</th>\n",
       "    </tr>\n",
       "  </thead>\n",
       "  <tbody>\n",
       "    <tr>\n",
       "      <th>0</th>\n",
       "      <td>4661</td>\n",
       "      <td>\"name\": \"Cecilia Velasco\"</td>\n",
       "      <td>\"email\": \"cecilia.velasco@rodrigues.fr\"}</td>\n",
       "    </tr>\n",
       "    <tr>\n",
       "      <th>1</th>\n",
       "      <td>3765</td>\n",
       "      <td>\"name\": \"Mariana Ellis\"</td>\n",
       "      <td>\"email\": \"mariana.ellis@rossi.org\"}</td>\n",
       "    </tr>\n",
       "    <tr>\n",
       "      <th>2</th>\n",
       "      <td>4187</td>\n",
       "      <td>\"name\": \"Sofie Woods\"</td>\n",
       "      <td>\"email\": \"sofie.woods@riviere.com\"}</td>\n",
       "    </tr>\n",
       "    <tr>\n",
       "      <th>3</th>\n",
       "      <td>4941</td>\n",
       "      <td>\"name\": \"Jeanette Iannotti\"</td>\n",
       "      <td>\"email\": \"jeanette.iannotti@yahoo.com\"}</td>\n",
       "    </tr>\n",
       "    <tr>\n",
       "      <th>4</th>\n",
       "      <td>2199</td>\n",
       "      <td>\"name\": \"Samuel Sorgatz\"</td>\n",
       "      <td>\"email\": \"samuel.sorgatz@gmail.com\"}</td>\n",
       "    </tr>\n",
       "  </tbody>\n",
       "</table>\n",
       "</div>"
      ],
      "text/plain": [
       "  contact_id                          name  \\\n",
       "0       4661     \"name\": \"Cecilia Velasco\"   \n",
       "1       3765       \"name\": \"Mariana Ellis\"   \n",
       "2       4187         \"name\": \"Sofie Woods\"   \n",
       "3       4941   \"name\": \"Jeanette Iannotti\"   \n",
       "4       2199      \"name\": \"Samuel Sorgatz\"   \n",
       "\n",
       "                                       email  \n",
       "0   \"email\": \"cecilia.velasco@rodrigues.fr\"}  \n",
       "1        \"email\": \"mariana.ellis@rossi.org\"}  \n",
       "2        \"email\": \"sofie.woods@riviere.com\"}  \n",
       "3    \"email\": \"jeanette.iannotti@yahoo.com\"}  \n",
       "4       \"email\": \"samuel.sorgatz@gmail.com\"}  "
      ]
     },
     "execution_count": 185,
     "metadata": {},
     "output_type": "execute_result"
    }
   ],
   "source": [
    "# Extract the four-digit contact ID number. thank you xpert for the regex\n",
    "contacts_df_temp['contact_id'] = contacts_df_temp['contact_id'].str.extract(r'(\\b\\d{4}\\b)')\n",
    "contacts_df_temp.head()"
   ]
  },
  {
   "cell_type": "code",
   "execution_count": 190,
   "metadata": {},
   "outputs": [
    {
     "name": "stdout",
     "output_type": "stream",
     "text": [
      "contact_id                                      4587\n",
      "name                                                \n",
      "email          \"email\": \"virginie.mclean@yahoo.com\"}\n",
      "Name: 984, dtype: object\n"
     ]
    }
   ],
   "source": [
    "#trying to locate where this guy lost his name \n",
    "specific_row = contacts_df_temp.iloc[984]  \n",
    "print(specific_row)"
   ]
  },
  {
   "cell_type": "code",
   "execution_count": 191,
   "metadata": {},
   "outputs": [
    {
     "name": "stdout",
     "output_type": "stream",
     "text": [
      "contact_id                                   4113\n",
      "name                                 Mason Potter\n",
      "email          \"email\": \"mason.potter@gmail.com\"}\n",
      "Name: 985, dtype: object\n"
     ]
    }
   ],
   "source": [
    "#trying to locate where this guy lost his name \n",
    "specific_row = contacts_df_temp.iloc[985]  \n",
    "print(specific_row)"
   ]
  },
  {
   "cell_type": "code",
   "execution_count": 186,
   "metadata": {},
   "outputs": [
    {
     "name": "stdout",
     "output_type": "stream",
     "text": [
      "<class 'pandas.core.frame.DataFrame'>\n",
      "RangeIndex: 1000 entries, 0 to 999\n",
      "Data columns (total 3 columns):\n",
      " #   Column      Non-Null Count  Dtype \n",
      "---  ------      --------------  ----- \n",
      " 0   contact_id  1000 non-null   object\n",
      " 1   name        1000 non-null   object\n",
      " 2   email       1000 non-null   object\n",
      "dtypes: object(3)\n",
      "memory usage: 23.6+ KB\n"
     ]
    }
   ],
   "source": [
    "# Check the datatypes.\n",
    "contacts_df_temp.info()"
   ]
  },
  {
   "cell_type": "code",
   "execution_count": 187,
   "metadata": {},
   "outputs": [
    {
     "name": "stdout",
     "output_type": "stream",
     "text": [
      "<class 'pandas.core.frame.DataFrame'>\n",
      "RangeIndex: 1000 entries, 0 to 999\n",
      "Data columns (total 3 columns):\n",
      " #   Column      Non-Null Count  Dtype \n",
      "---  ------      --------------  ----- \n",
      " 0   contact_id  1000 non-null   int64 \n",
      " 1   name        1000 non-null   object\n",
      " 2   email       1000 non-null   object\n",
      "dtypes: int64(1), object(2)\n",
      "memory usage: 23.6+ KB\n"
     ]
    }
   ],
   "source": [
    "# Convert the \"contact_id\" column to an int64 data type.\n",
    "contacts_df_temp['contact_id'] = contacts_df_temp['contact_id'].astype(int)\n",
    "contacts_df_temp.info()"
   ]
  },
  {
   "cell_type": "code",
   "execution_count": 189,
   "metadata": {},
   "outputs": [
    {
     "data": {
      "text/html": [
       "<div>\n",
       "<style scoped>\n",
       "    .dataframe tbody tr th:only-of-type {\n",
       "        vertical-align: middle;\n",
       "    }\n",
       "\n",
       "    .dataframe tbody tr th {\n",
       "        vertical-align: top;\n",
       "    }\n",
       "\n",
       "    .dataframe thead th {\n",
       "        text-align: right;\n",
       "    }\n",
       "</style>\n",
       "<table border=\"1\" class=\"dataframe\">\n",
       "  <thead>\n",
       "    <tr style=\"text-align: right;\">\n",
       "      <th></th>\n",
       "      <th>contact_id</th>\n",
       "      <th>name</th>\n",
       "      <th>email</th>\n",
       "    </tr>\n",
       "  </thead>\n",
       "  <tbody>\n",
       "    <tr>\n",
       "      <th>970</th>\n",
       "      <td>5761</td>\n",
       "      <td>Sharon Diallo</td>\n",
       "      <td>\"email\": \"sharon.diallo@gmail.com\"}</td>\n",
       "    </tr>\n",
       "    <tr>\n",
       "      <th>971</th>\n",
       "      <td>3699</td>\n",
       "      <td>Eduardo Delattre</td>\n",
       "      <td>\"email\": \"eduardo.delattre@lynch.net.au\"}</td>\n",
       "    </tr>\n",
       "    <tr>\n",
       "      <th>972</th>\n",
       "      <td>4519</td>\n",
       "      <td>Bernadette Wang</td>\n",
       "      <td>\"email\": \"bernadette.wang@gmail.com\"}</td>\n",
       "    </tr>\n",
       "    <tr>\n",
       "      <th>973</th>\n",
       "      <td>5395</td>\n",
       "      <td>Dina Gibbons</td>\n",
       "      <td>\"email\": \"dina.gibbons@brewer.net\"}</td>\n",
       "    </tr>\n",
       "    <tr>\n",
       "      <th>974</th>\n",
       "      <td>3057</td>\n",
       "      <td>Clara Armstrong</td>\n",
       "      <td>\"email\": \"clara.armstrong@vodafone.it\"}</td>\n",
       "    </tr>\n",
       "    <tr>\n",
       "      <th>975</th>\n",
       "      <td>2741</td>\n",
       "      <td>Elliott Herrmann</td>\n",
       "      <td>\"email\": \"elliott.herrmann@hotmail.com.au\"}</td>\n",
       "    </tr>\n",
       "    <tr>\n",
       "      <th>976</th>\n",
       "      <td>1675</td>\n",
       "      <td>Graziella Vidal</td>\n",
       "      <td>\"email\": \"graziella.vidal@hotmail.com\"}</td>\n",
       "    </tr>\n",
       "    <tr>\n",
       "      <th>977</th>\n",
       "      <td>2712</td>\n",
       "      <td>Francisca Becerra</td>\n",
       "      <td>\"email\": \"francisca.becerra@young.com.au\"}</td>\n",
       "    </tr>\n",
       "    <tr>\n",
       "      <th>978</th>\n",
       "      <td>4527</td>\n",
       "      <td>Edeltrud Boyer</td>\n",
       "      <td>\"email\": \"edeltrud.boyer@outlook.com\"}</td>\n",
       "    </tr>\n",
       "    <tr>\n",
       "      <th>979</th>\n",
       "      <td>1722</td>\n",
       "      <td>Julian Noble</td>\n",
       "      <td>\"email\": \"julian.noble@hill.org.au\"}</td>\n",
       "    </tr>\n",
       "    <tr>\n",
       "      <th>980</th>\n",
       "      <td>4330</td>\n",
       "      <td>Christophe Bohnbach</td>\n",
       "      <td>\"email\": \"christophe.bohnbach@ifrance.com\"}</td>\n",
       "    </tr>\n",
       "    <tr>\n",
       "      <th>981</th>\n",
       "      <td>5219</td>\n",
       "      <td>Ippazio Angulo</td>\n",
       "      <td>\"email\": \"ippazio.angulo@yahoo.com\"}</td>\n",
       "    </tr>\n",
       "    <tr>\n",
       "      <th>982</th>\n",
       "      <td>4997</td>\n",
       "      <td>Grace Kroker</td>\n",
       "      <td>\"email\": \"grace.kroker@hotmail.com\"}</td>\n",
       "    </tr>\n",
       "    <tr>\n",
       "      <th>983</th>\n",
       "      <td>2239</td>\n",
       "      <td>Jared Ferguson</td>\n",
       "      <td>\"email\": \"jared.ferguson@roberts.com\"}</td>\n",
       "    </tr>\n",
       "    <tr>\n",
       "      <th>984</th>\n",
       "      <td>4587</td>\n",
       "      <td></td>\n",
       "      <td>\"email\": \"virginie.mclean@yahoo.com\"}</td>\n",
       "    </tr>\n",
       "    <tr>\n",
       "      <th>985</th>\n",
       "      <td>4113</td>\n",
       "      <td>Mason Potter</td>\n",
       "      <td>\"email\": \"mason.potter@gmail.com\"}</td>\n",
       "    </tr>\n",
       "    <tr>\n",
       "      <th>986</th>\n",
       "      <td>4762</td>\n",
       "      <td>Aaron Anaya</td>\n",
       "      <td>\"email\": \"aaron.anaya@hotmail.com.au\"}</td>\n",
       "    </tr>\n",
       "    <tr>\n",
       "      <th>987</th>\n",
       "      <td>5242</td>\n",
       "      <td>Leah Ornelas</td>\n",
       "      <td>\"email\": \"leah.ornelas@gmail.com\"}</td>\n",
       "    </tr>\n",
       "    <tr>\n",
       "      <th>988</th>\n",
       "      <td>5765</td>\n",
       "      <td>Harald Roy</td>\n",
       "      <td>\"email\": \"harald.roy@web.de\"}</td>\n",
       "    </tr>\n",
       "    <tr>\n",
       "      <th>989</th>\n",
       "      <td>2185</td>\n",
       "      <td>Micaela Martel</td>\n",
       "      <td>\"email\": \"micaela.martel@hotmail.com\"}</td>\n",
       "    </tr>\n",
       "    <tr>\n",
       "      <th>990</th>\n",
       "      <td>5500</td>\n",
       "      <td>Vincentio Sanders</td>\n",
       "      <td>\"email\": \"vincentio.sanders@voila.fr\"}</td>\n",
       "    </tr>\n",
       "    <tr>\n",
       "      <th>991</th>\n",
       "      <td>3494</td>\n",
       "      <td>Bettina Norbiato</td>\n",
       "      <td>\"email\": \"bettina.norbiato@allen-lutz.org\"}</td>\n",
       "    </tr>\n",
       "    <tr>\n",
       "      <th>992</th>\n",
       "      <td>3924</td>\n",
       "      <td>Julio Renner</td>\n",
       "      <td>\"email\": \"julio.renner@industrias.net\"}</td>\n",
       "    </tr>\n",
       "    <tr>\n",
       "      <th>993</th>\n",
       "      <td>3521</td>\n",
       "      <td>Jelena Stiffel</td>\n",
       "      <td>\"email\": \"jelena.stiffel@trupp.de\"}</td>\n",
       "    </tr>\n",
       "    <tr>\n",
       "      <th>994</th>\n",
       "      <td>5262</td>\n",
       "      <td>Guadalupe Munoz</td>\n",
       "      <td>\"email\": \"guadalupe.munoz@murray-hamilton.com.au\"}</td>\n",
       "    </tr>\n",
       "    <tr>\n",
       "      <th>995</th>\n",
       "      <td>3684</td>\n",
       "      <td>Whitney Noack</td>\n",
       "      <td>\"email\": \"whitney.noack@laboratorios.org\"}</td>\n",
       "    </tr>\n",
       "    <tr>\n",
       "      <th>996</th>\n",
       "      <td>5784</td>\n",
       "      <td>Gelsomina Migliaccio</td>\n",
       "      <td>\"email\": \"gelsomina.migliaccio@junk.com\"}</td>\n",
       "    </tr>\n",
       "    <tr>\n",
       "      <th>997</th>\n",
       "      <td>1498</td>\n",
       "      <td>Evangelista Pereira</td>\n",
       "      <td>\"email\": \"evangelista.pereira@thompson-peterson.biz\"}</td>\n",
       "    </tr>\n",
       "    <tr>\n",
       "      <th>998</th>\n",
       "      <td>6073</td>\n",
       "      <td>Gareth Comolli</td>\n",
       "      <td>\"email\": \"gareth.comolli@tiscali.fr\"}</td>\n",
       "    </tr>\n",
       "    <tr>\n",
       "      <th>999</th>\n",
       "      <td>4939</td>\n",
       "      <td>Michelangelo Hess</td>\n",
       "      <td>\"email\": \"michelangelo.hess@bouygtel.fr\"}</td>\n",
       "    </tr>\n",
       "  </tbody>\n",
       "</table>\n",
       "</div>"
      ],
      "text/plain": [
       "     contact_id                  name  \\\n",
       "970        5761         Sharon Diallo   \n",
       "971        3699      Eduardo Delattre   \n",
       "972        4519       Bernadette Wang   \n",
       "973        5395          Dina Gibbons   \n",
       "974        3057       Clara Armstrong   \n",
       "975        2741      Elliott Herrmann   \n",
       "976        1675       Graziella Vidal   \n",
       "977        2712     Francisca Becerra   \n",
       "978        4527        Edeltrud Boyer   \n",
       "979        1722          Julian Noble   \n",
       "980        4330   Christophe Bohnbach   \n",
       "981        5219        Ippazio Angulo   \n",
       "982        4997          Grace Kroker   \n",
       "983        2239        Jared Ferguson   \n",
       "984        4587                         \n",
       "985        4113          Mason Potter   \n",
       "986        4762           Aaron Anaya   \n",
       "987        5242          Leah Ornelas   \n",
       "988        5765            Harald Roy   \n",
       "989        2185        Micaela Martel   \n",
       "990        5500     Vincentio Sanders   \n",
       "991        3494      Bettina Norbiato   \n",
       "992        3924          Julio Renner   \n",
       "993        3521        Jelena Stiffel   \n",
       "994        5262       Guadalupe Munoz   \n",
       "995        3684         Whitney Noack   \n",
       "996        5784  Gelsomina Migliaccio   \n",
       "997        1498   Evangelista Pereira   \n",
       "998        6073        Gareth Comolli   \n",
       "999        4939     Michelangelo Hess   \n",
       "\n",
       "                                                      email  \n",
       "970                     \"email\": \"sharon.diallo@gmail.com\"}  \n",
       "971               \"email\": \"eduardo.delattre@lynch.net.au\"}  \n",
       "972                   \"email\": \"bernadette.wang@gmail.com\"}  \n",
       "973                     \"email\": \"dina.gibbons@brewer.net\"}  \n",
       "974                 \"email\": \"clara.armstrong@vodafone.it\"}  \n",
       "975             \"email\": \"elliott.herrmann@hotmail.com.au\"}  \n",
       "976                 \"email\": \"graziella.vidal@hotmail.com\"}  \n",
       "977              \"email\": \"francisca.becerra@young.com.au\"}  \n",
       "978                  \"email\": \"edeltrud.boyer@outlook.com\"}  \n",
       "979                    \"email\": \"julian.noble@hill.org.au\"}  \n",
       "980             \"email\": \"christophe.bohnbach@ifrance.com\"}  \n",
       "981                    \"email\": \"ippazio.angulo@yahoo.com\"}  \n",
       "982                    \"email\": \"grace.kroker@hotmail.com\"}  \n",
       "983                  \"email\": \"jared.ferguson@roberts.com\"}  \n",
       "984                   \"email\": \"virginie.mclean@yahoo.com\"}  \n",
       "985                      \"email\": \"mason.potter@gmail.com\"}  \n",
       "986                  \"email\": \"aaron.anaya@hotmail.com.au\"}  \n",
       "987                      \"email\": \"leah.ornelas@gmail.com\"}  \n",
       "988                           \"email\": \"harald.roy@web.de\"}  \n",
       "989                  \"email\": \"micaela.martel@hotmail.com\"}  \n",
       "990                  \"email\": \"vincentio.sanders@voila.fr\"}  \n",
       "991             \"email\": \"bettina.norbiato@allen-lutz.org\"}  \n",
       "992                 \"email\": \"julio.renner@industrias.net\"}  \n",
       "993                     \"email\": \"jelena.stiffel@trupp.de\"}  \n",
       "994      \"email\": \"guadalupe.munoz@murray-hamilton.com.au\"}  \n",
       "995              \"email\": \"whitney.noack@laboratorios.org\"}  \n",
       "996               \"email\": \"gelsomina.migliaccio@junk.com\"}  \n",
       "997   \"email\": \"evangelista.pereira@thompson-peterson.biz\"}  \n",
       "998                   \"email\": \"gareth.comolli@tiscali.fr\"}  \n",
       "999               \"email\": \"michelangelo.hess@bouygtel.fr\"}  "
      ]
     },
     "execution_count": 189,
     "metadata": {},
     "output_type": "execute_result"
    }
   ],
   "source": [
    "# Extract the name of the contact and add it to a new column. thank you xpert for helping make this not a list\n",
    "name_pat = r'\\b[A-Z][a-z]+\\s[A-Z][a-z]+\\b'\n",
    "contacts_df_temp['name'] = contacts_df_temp['name'].apply(lambda x: re.findall(name_pat, x)[0] if re.findall(name_pat, x) else '')\n",
    "contacts_df_temp.tail(30)"
   ]
  },
  {
   "cell_type": "code",
   "execution_count": null,
   "metadata": {},
   "outputs": [],
   "source": [
    "#still have the \n",
    "contacts_df_temp.info()"
   ]
  },
  {
   "cell_type": "code",
   "execution_count": null,
   "metadata": {},
   "outputs": [],
   "source": [
    "# Extract the email from the contacts and add the values to a new column. thank xpert for the help\n",
    "emails_pat = r'\\b[A-Za-z0-9._%+-]+@[A-Za-z0-9.-]+\\.[A-Z|a-z]{2,}\\b'\n",
    "contacts_df_temp['email'] = contacts_df_temp['email'].apply(lambda x: re.findall(emails_pat, x)[0] if re.findall(emails_pat, x) else '')\n",
    "contacts_df_temp.head()"
   ]
  },
  {
   "cell_type": "code",
   "execution_count": null,
   "metadata": {},
   "outputs": [],
   "source": [
    "# Create a copy of the contact_info_df with the 'contact_id', 'name', 'email' columns.\n",
    "contact_df_new_columns = contacts_df_temp.copy()\n",
    "contact_df_new_columns\n"
   ]
  },
  {
   "cell_type": "code",
   "execution_count": null,
   "metadata": {},
   "outputs": [],
   "source": [
    "#this is the last df with the guys name\n",
    "specific_row = contacts_df_temp.iloc[985]  \n",
    "print(specific_row)"
   ]
  },
  {
   "cell_type": "code",
   "execution_count": null,
   "metadata": {},
   "outputs": [],
   "source": [
    "contact_df_new_columns.info()"
   ]
  },
  {
   "cell_type": "code",
   "execution_count": null,
   "metadata": {},
   "outputs": [],
   "source": [
    "#finding the mysterious missing guy\n",
    "specific_row = contact_df_new_columns.iloc[984]  \n",
    "print(specific_row)"
   ]
  },
  {
   "cell_type": "code",
   "execution_count": null,
   "metadata": {},
   "outputs": [],
   "source": [
    "# Create a \"first\"name\" and \"last_name\" column with the first and last names from the \"name\" column. \n",
    "contact_df_new_columns[['first_name', 'last_name']] = contact_df_new_columns['name'].str.split(' ', n=1, expand=True)\n",
    "#making sure that worked before i start dropping columns\n",
    "contact_df_new_columns.head()\n",
    "\n",
    "# Drop the contact_name column\n",
    "contact_df_new_columns = contact_df_new_columns.drop(columns = ['name'])\n",
    "contact_df_new_columns.info()"
   ]
  },
  {
   "cell_type": "code",
   "execution_count": null,
   "metadata": {},
   "outputs": [],
   "source": [
    "#a last name is missing? trying to find it now\n",
    "null_values = contact_df_new_columns.isnull().sum()\n",
    "rows_with_null = contact_df_new_columns[contact_df_new_columns.isnull().any(axis=1)]\n",
    "print(rows_with_null)"
   ]
  },
  {
   "cell_type": "code",
   "execution_count": null,
   "metadata": {},
   "outputs": [],
   "source": [
    "#reorder the columns :contact_id, first_name, last_name, email\n",
    "#checking the current column order\n",
    "print(contact_df_new_columns)\n",
    "\n",
    "#putting the columns in a better order\n",
    "new_column_order = [\"contact_id\",\"first_name\",\"last_name\",\"email\"]\n",
    "\n",
    "#making the new df with the correct order for the columns\n",
    "contacts_clean = contacts_clean[new_column_order]\n",
    "contacts_clean.head()"
   ]
  },
  {
   "cell_type": "code",
   "execution_count": null,
   "metadata": {},
   "outputs": [],
   "source": [
    "# Check the datatypes one more time before exporting as CSV file.\n",
    "contacts_clean.info()"
   ]
  },
  {
   "cell_type": "code",
   "execution_count": null,
   "metadata": {},
   "outputs": [],
   "source": [
    "# Export the DataFrame as a CSV file. \n",
    "# contacts_df_clean.to_csv(\"Resources/contacts.csv\", encoding='utf8', index=False)"
   ]
  },
  {
   "cell_type": "code",
   "execution_count": null,
   "metadata": {},
   "outputs": [],
   "source": []
  }
 ],
 "metadata": {
  "kernelspec": {
   "display_name": "Python 3 (ipykernel)",
   "language": "python",
   "name": "python3"
  },
  "language_info": {
   "codemirror_mode": {
    "name": "ipython",
    "version": 3
   },
   "file_extension": ".py",
   "mimetype": "text/x-python",
   "name": "python",
   "nbconvert_exporter": "python",
   "pygments_lexer": "ipython3",
   "version": "3.10.13"
  }
 },
 "nbformat": 4,
 "nbformat_minor": 4
}
