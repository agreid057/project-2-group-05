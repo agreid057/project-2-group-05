{
 "cells": [
  {
   "cell_type": "code",
   "execution_count": null,
   "metadata": {},
   "outputs": [],
   "source": [
    "# Import dependencies\n",
    "import pandas as pd\n",
    "import numpy as np\n",
    "import re\n",
    "pd.set_option('max_colwidth', 400)"
   ]
  },
  {
   "cell_type": "markdown",
   "metadata": {},
   "source": [
    "### Extract the crowdfunding.xlsx Data"
   ]
  },
  {
   "cell_type": "code",
   "execution_count": null,
   "metadata": {},
   "outputs": [],
   "source": [
    "# Read the data into a Pandas DataFrame\n",
    "crowdfunding_info_df = pd.read_excel('Resources/crowdfunding.xlsx')\n",
    "crowdfunding_info_df.head()"
   ]
  },
  {
   "cell_type": "code",
   "execution_count": null,
   "metadata": {},
   "outputs": [],
   "source": [
    "# Get a brief summary of the crowdfunding_info DataFrame.\n",
    "crowdfunding_info_df.info()"
   ]
  },
  {
   "cell_type": "markdown",
   "metadata": {},
   "source": [
    "### Create the Category and Subcategory DataFrames\n",
    "---\n",
    "**Create a Category DataFrame that has the following columns:**\n",
    "- A \"category_id\" column that is numbered sequential form 1 to the length of the number of unique categories.\n",
    "- A \"category\" column that has only the categories.\n",
    "\n",
    "Export the DataFrame as a `category.csv` CSV file.\n",
    "\n",
    "**Create a SubCategory DataFrame that has the following columns:**\n",
    "- A \"subcategory_id\" column that is numbered sequential form 1 to the length of the number of unique subcategories.\n",
    "- A \"subcategory\" column that has only the subcategories. \n",
    "\n",
    "Export the DataFrame as a `subcategory.csv` CSV file."
   ]
  },
  {
   "cell_type": "code",
   "execution_count": null,
   "metadata": {},
   "outputs": [],
   "source": [
    "# Get the crowdfunding_info_df columns.\n",
    "columns_list = crowdfunding_info_df.columns\n",
    "print(columns_list)"
   ]
  },
  {
   "cell_type": "code",
   "execution_count": null,
   "metadata": {},
   "outputs": [],
   "source": [
    "# Assign the category and subcategory values to category and subcategory columns.\n",
    "# Split the 'category & sub-category' column into 'category' and 'subcategory' columns\n",
    "crowdfunding_info_df[['category', 'subcategory']] = crowdfunding_info_df['category & sub-category'].str.split('/', expand=True)\n",
    "\n",
    "# Get unique categories and subcategories in separate lists.\n",
    "unique_categories = crowdfunding_info_df['category'].unique()\n",
    "unique_subcategories = crowdfunding_info_df['subcategory'].unique()\n",
    "\n",
    "# Create Category DataFrame with sequential category_id\n",
    "category_df = pd.DataFrame({\n",
    "    'category_id': [f'cat{i+1}' for i in range(len(unique_categories))],\n",
    "    'category': unique_categories\n",
    "})\n",
    "\n",
    "# Create Subcategory DataFrame with sequential subcategory_id\n",
    "subcategory_df = pd.DataFrame({\n",
    "    'subcategory_id': [f'subcat{i+1}' for i in range(len(unique_subcategories))],\n",
    "    'subcategory': unique_subcategories\n",
    "})\n"
   ]
  },
  {
   "cell_type": "code",
   "execution_count": null,
   "metadata": {},
   "outputs": [],
   "source": [
    "# Get the unique categories and subcategories \n",
    "unique_categories = category_df['category'].unique()\n",
    "print(unique_categories)\n",
    "\n",
    "unique_subcategories = subcategory_df['subcategory'].unique()\n",
    "print(unique_subcategories)"
   ]
  },
  {
   "cell_type": "code",
   "execution_count": null,
   "metadata": {},
   "outputs": [],
   "source": [
    "# Get the number of distinct values in the categories and subcategories lists.\n",
    "print(len(categories))\n",
    "print(len(subcategories))"
   ]
  },
  {
   "cell_type": "code",
   "execution_count": null,
   "metadata": {},
   "outputs": [],
   "source": [
    "# Create numpy arrays from 1-9 for the categories and 1-24 for the subcategories.\n",
    "categories_array = np.arange(1, 10)\n",
    "subcategories_array = np.arange(1, 25)\n",
    "\n",
    "print(\"NumPy array for categories (1-9):\", categories_array)\n",
    "print(\"NumPy array for subcategories (1-24):\", subcategories_array)"
   ]
  },
  {
   "cell_type": "code",
   "execution_count": null,
   "metadata": {},
   "outputs": [],
   "source": [
    "# Use a list comprehension to add \"cat\" to each category_id. \n",
    "cat_ids = [f'cat{cat_id}' for cat_id in categories_array]\n",
    "\n",
    "# Use a list comprehension to add \"subcat\" to each subcategory_id.  \n",
    "scat_ids = [f'subcat{subcat_id}' for subcat_id in subcategories_array]\n",
    "\n",
    "print(cat_ids)\n",
    "print(scat_ids)"
   ]
  },
  {
   "cell_type": "code",
   "execution_count": null,
   "metadata": {},
   "outputs": [],
   "source": [
    "# Create a category DataFrame with the category_id array as the category_id and categories list as the category name.\n",
    "category_df = pd.DataFrame({\n",
    "    \"category_id\": cat_ids,\n",
    "    \"category\": unique_categories\n",
    "})\n",
    "category_df\n"
   ]
  },
  {
   "cell_type": "code",
   "execution_count": null,
   "metadata": {},
   "outputs": [],
   "source": [
    "# Create a category DataFrame with the subcategory_id array as the subcategory_id and subcategories list as the subcategory name. \n",
    "subcategory_df = pd.DataFrame({\n",
    "    \"subcategory_id\": scat_ids,\n",
    "    \"subcategory\": unique_subcategories\n",
    "})\n",
    "\n",
    "subcategory_df"
   ]
  },
  {
   "cell_type": "code",
   "execution_count": null,
   "metadata": {},
   "outputs": [],
   "source": [
    "# Export categories_df and subcategories_df as CSV files.\n",
    "category_df.to_csv(\"Resources/category.csv\", index=True)\n",
    "subcategory_df.to_csv(\"Resources/subcategory.csv\", index=True)"
   ]
  },
  {
   "cell_type": "markdown",
   "metadata": {},
   "source": [
    "### Campaign DataFrame\n",
    "----\n",
    "**Create a Campaign DataFrame that has the following columns:**\n",
    "- The \"cf_id\" column.\n",
    "- The \"contact_id\" column.\n",
    "- The “company_name” column.\n",
    "- The \"blurb\" column is renamed as \"description.\"\n",
    "- The \"goal\" column.\n",
    "- The \"goal\" column is converted to a `float` datatype.\n",
    "- The \"pledged\" column is converted to a `float` datatype. \n",
    "- The \"backers_count\" column. \n",
    "- The \"country\" column.\n",
    "- The \"currency\" column.\n",
    "- The \"launched_at\" column is renamed as \"launch_date\" and converted to a datetime format. \n",
    "- The \"deadline\" column is renamed as \"end_date\" and converted to a datetime format.\n",
    "- The \"category_id\" with the unique number matching the “category_id” from the category DataFrame. \n",
    "- The \"subcategory_id\" with the unique number matching the “subcategory_id” from the subcategory DataFrame.\n",
    "- And, create a column that contains the unique four-digit contact ID number from the `contact.xlsx` file.\n",
    " \n",
    "\n",
    "Then export the DataFrame as a `campaign.csv` CSV file.\n"
   ]
  },
  {
   "cell_type": "code",
   "execution_count": null,
   "metadata": {},
   "outputs": [],
   "source": [
    "# Create a copy of the crowdfunding_info_df DataFrame name campaign_df. \n",
    "campaign_df = crowdfunding_info_df.copy()\n",
    "campaign_df.head()"
   ]
  },
  {
   "cell_type": "code",
   "execution_count": null,
   "metadata": {},
   "outputs": [],
   "source": [
    "# Rename the blurb, launched_at, and deadline columns.\n",
    "campaign_df.rename(columns={'blurb': 'description'}, inplace=True)\n",
    "\n",
    "# Check the updated column names\n",
    "print(campaign_df.columns)"
   ]
  },
  {
   "cell_type": "code",
   "execution_count": null,
   "metadata": {},
   "outputs": [],
   "source": [
    "campaign_df.head()"
   ]
  },
  {
   "cell_type": "code",
   "execution_count": null,
   "metadata": {},
   "outputs": [],
   "source": [
    "campaign_df.info()"
   ]
  },
  {
   "cell_type": "code",
   "execution_count": null,
   "metadata": {},
   "outputs": [],
   "source": [
    "# Convert the goal and pledged columns to a `float` data type.\n",
    "campaign_df['goal'] = campaign_df['goal'].astype(float)\n",
    "campaign_df['pledged'] = campaign_df['pledged'].astype(float)\n",
    "campaign_df.head()"
   ]
  },
  {
   "cell_type": "code",
   "execution_count": null,
   "metadata": {},
   "outputs": [],
   "source": [
    "# Check the datatypes\n",
    "campaign_df.dtypes"
   ]
  },
  {
   "cell_type": "code",
   "execution_count": null,
   "metadata": {},
   "outputs": [],
   "source": [
    "# Format the launched_date and end_date columns to datetime format\n",
    "# Rename the columns\n",
    "campaign_df.rename(columns={'launched_at': 'launch_date', 'deadline': 'end_date'}, inplace=True)\n",
    "\n",
    "# Get the list of column names after renaming\n",
    "columns_list = campaign_df.columns.tolist()\n",
    "print(columns_list)"
   ]
  },
  {
   "cell_type": "code",
   "execution_count": null,
   "metadata": {},
   "outputs": [],
   "source": [
    "# Rest of your code\n",
    "# Format the launched_date and end_date columns to datetime format\n",
    "# Convert UTC timestamps to datetime format with 'YYYY-MM-DD' format\n",
    "campaign_df['launch_date'] = pd.to_datetime(campaign_df['launch_date'], unit='s').dt.date\n",
    "campaign_df['end_date'] = pd.to_datetime(campaign_df['end_date'], unit='s').dt.date\n",
    "\n",
    "# Display the DataFrame with the updated datetime format\n",
    "campaign_df"
   ]
  },
  {
   "cell_type": "code",
   "execution_count": null,
   "metadata": {},
   "outputs": [],
   "source": [
    "# Check the data types after conversion - Assigment request date to shows as datetime - however to show as the picture in the assigment we left the code above. data ype for launch_date and end_date still shwing as object. \n",
    "campaign_df.dtypes"
   ]
  },
  {
   "cell_type": "code",
   "execution_count": null,
   "metadata": {},
   "outputs": [],
   "source": [
    "# Merge the campaign_df with the category_df on the \"category\" column and \n",
    "# the subcategory_df on the \"subcategory\" column.\n",
    "\n",
    "# Merge campaign_df with category_df on the \"category\" column\n",
    "campaign_df_merged = pd.merge(campaign_df, category_df, on=\"category\")\n",
    "\n",
    "# Merge the resulting DataFrame with subcategory_df on the \"subcategory\" column\n",
    "campaign_df_merged = pd.merge(campaign_df, subcategory_df, on=\"subcategory\")\n",
    "\n",
    "# Display the final merged DataFrame\n",
    "campaign_df_merged.tail(10)"
   ]
  },
  {
   "cell_type": "code",
   "execution_count": null,
   "metadata": {},
   "outputs": [],
   "source": [
    "# Drop unwanted columns\n",
    "# Check the current columns in the DataFrame\n",
    "print(campaign_df_merged.columns)"
   ]
  },
  {
   "cell_type": "code",
   "execution_count": null,
   "metadata": {},
   "outputs": [],
   "source": [
    "# # List of columns to drop\n",
    "columns_to_drop = ['category & sub-category','category','subcategory' ]\n",
    "\n",
    "# Drop the unwanted columns\n",
    "campaign_df_merged = campaign_df_merged.drop(columns=columns_to_drop, axis=1)\n",
    "\n",
    "# Check the DataFrame after dropping columns\n",
    "campaign_df_merged.head()"
   ]
  },
  {
   "cell_type": "code",
   "execution_count": null,
   "metadata": {},
   "outputs": [],
   "source": [
    "# Export the DataFrame as a CSV file. \n",
    "campaign_cleaned.to_csv(\"Resources/campaign.csv\", index=False)"
   ]
  },
  {
   "cell_type": "markdown",
   "metadata": {},
   "source": [
    "### Extract the contacts.xlsx Data."
   ]
  },
  {
   "cell_type": "code",
   "execution_count": null,
   "metadata": {},
   "outputs": [],
   "source": [
    "# Read the data into a Pandas DataFrame. Use the `header=2` parameter when reading in the data.\n",
    "contact_info_df = pd.read_excel('Resources/contacts.xlsx', header=2)\n",
    "contact_info_df.head()"
   ]
  },
  {
   "cell_type": "markdown",
   "metadata": {},
   "source": [
    "### Create the Contacts DataFrame \n",
    "---\n",
    "**Create a Contacts DataFrame that has the following columns:**\n",
    "- A column named \"contact_id\"  that contains the unique number of the contact person.\n",
    "- A column named \"first_name\" that contains the first name of the contact person.\n",
    "- A column named \"last_name\" that contains the first name of the contact person.\n",
    "- A column named \"email\" that contains the email address of the contact person\n",
    "\n",
    "Then export the DataFrame as a `contacts.csv` CSV file."
   ]
  },
  {
   "cell_type": "markdown",
   "metadata": {},
   "source": [
    "### Option 1: Use Pandas to create the contacts DataFrame."
   ]
  },
  {
   "cell_type": "code",
   "execution_count": null,
   "metadata": {},
   "outputs": [],
   "source": [
    "# Iterate through the contact_info_df and convert each row to a dictionary.\n",
    "import json\n",
    "dict_values = []\n",
    "\n",
    "\n",
    "# Print out the list of values for each row.\n",
    "print(dict_values)"
   ]
  },
  {
   "cell_type": "code",
   "execution_count": null,
   "metadata": {},
   "outputs": [],
   "source": [
    "# Iterate through the contact_info_df and convert each row to a dictionary.\n",
    "import json\n",
    "\n",
    "# Initialize list for the columns needed\n",
    "new_contact = pd.DataFrame(columns = ['contact_id', 'name', 'email'])\n",
    "\n",
    "# Iterate through the DataFrame and convert each row to a dictionary\n",
    "for index, row in contact_info_df.iterrows():\n",
    "    contact_dict = json.loads(row.to_dict()[\"contact_info\"])\n",
    "    contact_dict = pd.DataFrame(data = contact_dict,index=[0])\n",
    "    new_contact = pd.concat([new_contact, contact_dict])\n",
    "     \n",
    "    \n",
    "# # Print the list of dictionaries\n",
    "print(new_contact.reset_index())"
   ]
  },
  {
   "cell_type": "code",
   "execution_count": null,
   "metadata": {},
   "outputs": [],
   "source": [
    "# Create a contact_info DataFrame and add each list of values, i.e., each row \n",
    "# to the 'contact_id', 'name', 'email' columns.\n",
    "new_contact.head()\n"
   ]
  },
  {
   "cell_type": "code",
   "execution_count": null,
   "metadata": {},
   "outputs": [],
   "source": [
    "# Check the datatypes.\n",
    "new_contact.info()"
   ]
  },
  {
   "cell_type": "code",
   "execution_count": null,
   "metadata": {},
   "outputs": [],
   "source": [
    "# Create a \"first\"name\" and \"last_name\" column with the first and last names from the \"name\" column. \n",
    "new_contact[['first_name', 'last_name']] = new_contact['name'].str.split(' ', n=1, expand=True)\n",
    "\n",
    "# Print the DataFrame after dropping the \"name\" column\n",
    "new_contact.head()"
   ]
  },
  {
   "cell_type": "code",
   "execution_count": null,
   "metadata": {},
   "outputs": [],
   "source": [
    "# Drop the original \"name\" column\n",
    "new_contact = new_contact.drop(columns=['name'])\n",
    "new_contact.head()"
   ]
  },
  {
   "cell_type": "code",
   "execution_count": null,
   "metadata": {},
   "outputs": [],
   "source": [
    "# Reorder the columns\n",
    "new_contact = new_contact[['contact_id', 'first_name', 'last_name', 'email']]\n",
    "\n",
    "# Print the DataFrame with the reordered columns\n",
    "new_contact.head()"
   ]
  },
  {
   "cell_type": "code",
   "execution_count": null,
   "metadata": {},
   "outputs": [],
   "source": [
    "# Check the datatypes one more time before exporting as CSV file. -Contact_id still and object to better use py\n",
    "new_contact.info()"
   ]
  },
  {
   "cell_type": "code",
   "execution_count": null,
   "metadata": {},
   "outputs": [],
   "source": [
    "# Export the Contacts DataFrame to a CSV file named 'contacts.csv'\n",
    "new_contact.to_csv(\"Resources/contacts.csv\", index=False)"
   ]
  },
  {
   "cell_type": "markdown",
   "metadata": {},
   "source": [
    "### Option 2: Use regex to create the contacts DataFrame."
   ]
  },
  {
   "cell_type": "code",
   "execution_count": null,
   "metadata": {},
   "outputs": [],
   "source": [
    "#loading in the excel file\n",
    "contact_info_df = pd.read_excel ('Resources/contacts.xlsx' , header =3)\n",
    "contact_info_df.head()"
   ]
  },
  {
   "cell_type": "code",
   "execution_count": null,
   "metadata": {},
   "outputs": [],
   "source": [
    "#making a copy of the data frame\n",
    "contact_info_df_copy = contact_info_df.copy()\n",
    "contact_info_df_copy.head()"
   ]
  },
  {
   "cell_type": "code",
   "execution_count": null,
   "metadata": {},
   "outputs": [],
   "source": [
    "#splitting my columns into contact_id, name, and email\n",
    "contacts_df_temp = pd.DataFrame() \n",
    "contacts_df_temp[['contact_id','name','email']] = contact_info_df_copy['contact_info'].str.split(',' , expand = True) \n",
    "contacts_df_temp.head()"
   ]
  },
  {
   "cell_type": "code",
   "execution_count": null,
   "metadata": {},
   "outputs": [],
   "source": [
    "# Extract the four-digit contact ID number. thank you xpert for the regex\n",
    "contacts_df_temp['contact_id'] = contacts_df_temp['contact_id'].str.extract(r'(\\b\\d{4}\\b)')\n",
    "contacts_df_temp.head()"
   ]
  },
  {
   "cell_type": "code",
   "execution_count": null,
   "metadata": {},
   "outputs": [],
   "source": [
    "# Check the datatypes.\n",
    "contacts_df_temp.info()"
   ]
  },
  {
   "cell_type": "code",
   "execution_count": null,
   "metadata": {},
   "outputs": [],
   "source": [
    "# Convert the \"contact_id\" column to an int64 data type.\n",
    "contacts_df_temp['contact_id'] = contacts_df_temp['contact_id'].astype(int)\n",
    "contacts_df_temp.info()"
   ]
  },
  {
   "cell_type": "code",
   "execution_count": null,
   "metadata": {},
   "outputs": [],
   "source": [
    "# Extract the name of the contact and add it to a new column. thank you xpert for helping make this not a list\n",
    "#thanks kourt for fixing the missing name issue\n",
    "name_pat = r'\\b[A-Z][a-z]+\\s[A-Za-z]+\\b'\n",
    "contacts_df_temp['name'] = contacts_df_temp['name'].apply(lambda x: re.findall(name_pat, x)[0] if re.findall(name_pat, x) else '')\n",
    "contacts_df_temp.head()"
   ]
  },
  {
   "cell_type": "code",
   "execution_count": null,
   "metadata": {},
   "outputs": [],
   "source": [
    "# Extract the email from the contacts and add the values to a new column. thank xpert for the help\n",
    "emails_pat = r'\\b[A-Za-z0-9._%+-]+@[A-Za-z0-9.-]+\\.[A-Z|a-z]{2,}\\b'\n",
    "contacts_df_temp['email'] = contacts_df_temp['email'].apply(lambda x: re.findall(emails_pat, x)[0] if re.findall(emails_pat, x) else '')\n",
    "contacts_df_temp.head()"
   ]
  },
  {
   "cell_type": "code",
   "execution_count": null,
   "metadata": {},
   "outputs": [],
   "source": [
    "# Create a copy of the contact_info_df with the 'contact_id', 'name', 'email' columns.\n",
    "contact_df_new_columns = contacts_df_temp.copy()\n",
    "contact_df_new_columns\n"
   ]
  },
  {
   "cell_type": "code",
   "execution_count": null,
   "metadata": {},
   "outputs": [],
   "source": [
    "# Create a \"first\"name\" and \"last_name\" column with the first and last names from the \"name\" column. \n",
    "contact_df_new_columns[['first_name', 'last_name']] = contact_df_new_columns['name'].str.split(' ', n=1, expand=True)\n",
    "#making sure that worked before i start dropping columns\n",
    "contact_df_new_columns.head()\n",
    "\n",
    "# Drop the contact_name column\n",
    "contact_df_new_columns = contact_df_new_columns.drop(columns = ['name'])\n",
    "contact_df_new_columns.info()"
   ]
  },
  {
   "cell_type": "code",
   "execution_count": null,
   "metadata": {},
   "outputs": [],
   "source": [
    "#reorder the columns :contact_id, first_name, last_name, email\n",
    "#checking the current column order\n",
    "print(contact_df_new_columns)\n",
    "\n",
    "#putting the columns in a better order\n",
    "new_column_order = [\"contact_id\",\"first_name\",\"last_name\",\"email\"]\n",
    "\n",
    "#making the new df with the correct order for the columns\n",
    "contacts_clean = contact_df_new_columns[new_column_order]\n",
    "contacts_clean.head()\n"
   ]
  },
  {
   "cell_type": "code",
   "execution_count": null,
   "metadata": {},
   "outputs": [],
   "source": [
    "# Check the datatypes one more time before exporting as CSV file.\n",
    "contacts_clean.info()"
   ]
  },
  {
   "cell_type": "code",
   "execution_count": null,
   "metadata": {},
   "outputs": [],
   "source": [
    "# Export the DataFrame as a CSV file. \n",
    "contacts_clean.to_csv(\"Resources/contacts.csv\", encoding='utf8', index=False)"
   ]
  },
  {
   "cell_type": "code",
   "execution_count": null,
   "metadata": {},
   "outputs": [],
   "source": []
  }
 ],
 "metadata": {
  "kernelspec": {
   "display_name": "Python 3 (ipykernel)",
   "language": "python",
   "name": "python3"
  },
  "language_info": {
   "codemirror_mode": {
    "name": "ipython",
    "version": 3
   },
   "file_extension": ".py",
   "mimetype": "text/x-python",
   "name": "python",
   "nbconvert_exporter": "python",
   "pygments_lexer": "ipython3",
   "version": "3.10.13"
  }
 },
 "nbformat": 4,
 "nbformat_minor": 4
}
